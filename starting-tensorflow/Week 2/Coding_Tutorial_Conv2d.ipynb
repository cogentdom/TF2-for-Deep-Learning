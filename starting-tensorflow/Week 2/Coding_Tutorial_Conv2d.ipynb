{
  "cells": [
    {
      "cell_type": "code",
      "execution_count": 1,
      "metadata": {
        "id": "8X5_dr5NWGmB",
        "outputId": "d2f4e49e-0dfa-4c97-ced3-83b6a98cb3d8",
        "colab": {
          "base_uri": "https://localhost:8080/"
        }
      },
      "outputs": [
        {
          "output_type": "stream",
          "name": "stdout",
          "text": [
            "2.14.0\n"
          ]
        }
      ],
      "source": [
        "import tensorflow as tf\n",
        "print(tf.__version__)"
      ]
    },
    {
      "cell_type": "markdown",
      "metadata": {
        "id": "Uzj__szbWGmC"
      },
      "source": [
        "# The Sequential model API"
      ]
    },
    {
      "cell_type": "markdown",
      "metadata": {
        "id": "lbyDmgorWGmD"
      },
      "source": [
        " ## Coding tutorials\n",
        " #### [1. Building a Sequential model](#coding_tutorial_1)\n",
        " #### [2. Convolutional and pooling layers](#coding_tutorial_2)\n",
        " #### [3. The compile method](#coding_tutorial_3)\n",
        " #### [4. The fit method](#coding_tutorial_4)\n",
        " #### [5. The evaluate and predict methods](#coding_tutorial_5)"
      ]
    },
    {
      "cell_type": "markdown",
      "metadata": {
        "id": "NnT8JvNhWGmE"
      },
      "source": [
        "***\n",
        "<a id=\"coding_tutorial_1\"></a>\n",
        "## Building a Sequential model"
      ]
    },
    {
      "cell_type": "code",
      "execution_count": 2,
      "metadata": {
        "id": "nVBxC6ngWGmF"
      },
      "outputs": [],
      "source": [
        "from tensorflow.keras.models import Sequential\n",
        "from tensorflow.keras.layers import Dense, Flatten, Softmax"
      ]
    },
    {
      "cell_type": "markdown",
      "metadata": {
        "id": "P97V-FqOWGmF"
      },
      "source": [
        "#### Build a feedforward neural network model"
      ]
    },
    {
      "cell_type": "code",
      "execution_count": 3,
      "metadata": {
        "id": "VNooqP0iWGmH"
      },
      "outputs": [],
      "source": [
        "# Build the Sequential feedforward neural network model\n",
        "model = Sequential([Flatten(input_shape=(64,64)), Dense(16, activation='relu')])\n"
      ]
    },
    {
      "cell_type": "code",
      "execution_count": 4,
      "metadata": {
        "id": "6k9krZpEWGmH",
        "outputId": "d73a4cb3-96be-48a2-ef68-08e498050437",
        "colab": {
          "base_uri": "https://localhost:8080/"
        }
      },
      "outputs": [
        {
          "output_type": "stream",
          "name": "stdout",
          "text": [
            "Model: \"sequential\"\n",
            "_________________________________________________________________\n",
            " Layer (type)                Output Shape              Param #   \n",
            "=================================================================\n",
            " flatten (Flatten)           (None, 4096)              0         \n",
            "                                                                 \n",
            " dense (Dense)               (None, 16)                65552     \n",
            "                                                                 \n",
            "=================================================================\n",
            "Total params: 65552 (256.06 KB)\n",
            "Trainable params: 65552 (256.06 KB)\n",
            "Non-trainable params: 0 (0.00 Byte)\n",
            "_________________________________________________________________\n"
          ]
        }
      ],
      "source": [
        "# Print the model summary\n",
        "model.summary()\n"
      ]
    },
    {
      "cell_type": "markdown",
      "metadata": {
        "id": "EFqv0-X8WGmI"
      },
      "source": [
        "***\n",
        "<a id=\"coding_tutorial_2\"></a>\n",
        "## Convolutional and pooling layers"
      ]
    },
    {
      "cell_type": "code",
      "execution_count": 5,
      "metadata": {
        "id": "lMszrFKfWGmJ"
      },
      "outputs": [],
      "source": [
        "from tensorflow.keras.models import Sequential\n",
        "from tensorflow.keras.layers import Dense, Flatten, Conv2D, MaxPooling2D"
      ]
    },
    {
      "cell_type": "markdown",
      "metadata": {
        "id": "msXcdt9BWGmJ"
      },
      "source": [
        "#### Build a convolutional neural network model"
      ]
    },
    {
      "cell_type": "code",
      "execution_count": 6,
      "metadata": {
        "id": "iK8_y4xEWGmJ"
      },
      "outputs": [],
      "source": [
        "# Build the Sequential convolutional neural network model\n",
        "model = Sequential([\n",
        "    Conv2D(filters=1, kernel_size=3, input_shape=(28, 28, 1)),\n",
        "    MaxPooling2D(pool_size=(2,2)),\n",
        "    Flatten(),\n",
        "    Dense(10, activation=Softmax())\n",
        "])\n"
      ]
    },
    {
      "cell_type": "code",
      "execution_count": 7,
      "metadata": {
        "id": "s7G9rpJYWGmK",
        "outputId": "552a623b-a53c-4117-ca7c-9111d8d8748b",
        "colab": {
          "base_uri": "https://localhost:8080/"
        }
      },
      "outputs": [
        {
          "output_type": "stream",
          "name": "stdout",
          "text": [
            "Model: \"sequential_1\"\n",
            "_________________________________________________________________\n",
            " Layer (type)                Output Shape              Param #   \n",
            "=================================================================\n",
            " conv2d (Conv2D)             (None, 26, 26, 1)         10        \n",
            "                                                                 \n",
            " max_pooling2d (MaxPooling2  (None, 13, 13, 1)         0         \n",
            " D)                                                              \n",
            "                                                                 \n",
            " flatten_1 (Flatten)         (None, 169)               0         \n",
            "                                                                 \n",
            " dense_1 (Dense)             (None, 10)                1700      \n",
            "                                                                 \n",
            "=================================================================\n",
            "Total params: 1710 (6.68 KB)\n",
            "Trainable params: 1710 (6.68 KB)\n",
            "Non-trainable params: 0 (0.00 Byte)\n",
            "_________________________________________________________________\n"
          ]
        }
      ],
      "source": [
        "# Print the model summary\n",
        "model.summary()\n"
      ]
    },
    {
      "cell_type": "markdown",
      "metadata": {
        "id": "6UCB_bUOWGmK"
      },
      "source": [
        "***\n",
        "<a id=\"coding_tutorial_3\"></a>\n",
        "## The compile method"
      ]
    },
    {
      "cell_type": "markdown",
      "metadata": {
        "id": "GBRDq0bMWGmK"
      },
      "source": [
        "#### Compile the model"
      ]
    },
    {
      "cell_type": "code",
      "execution_count": 8,
      "metadata": {
        "id": "-YUCqNf_WGmL"
      },
      "outputs": [],
      "source": [
        "# Define the model optimizer, loss function and metrics\n",
        "model.compile(optimizer='rmsprop', loss=\"sparse_categorical_crossentropy\", metrics=[\"accuracy\", \"mse\"])\n"
      ]
    },
    {
      "cell_type": "code",
      "execution_count": 9,
      "metadata": {
        "id": "l1_G7PQpWGmL",
        "outputId": "c9360c1c-6da6-4865-ae27-f82cf732a9e2",
        "colab": {
          "base_uri": "https://localhost:8080/"
        }
      },
      "outputs": [
        {
          "output_type": "execute_result",
          "data": {
            "text/plain": [
              "[]"
            ]
          },
          "metadata": {},
          "execution_count": 9
        }
      ],
      "source": [
        "# Print the resulting model attributes\n",
        "model.metrics_names\n"
      ]
    },
    {
      "cell_type": "markdown",
      "metadata": {
        "id": "wx7uGUXNWGmL"
      },
      "source": [
        "***\n",
        "<a id=\"coding_tutorial_4\"></a>\n",
        "## The fit method"
      ]
    },
    {
      "cell_type": "code",
      "execution_count": 10,
      "metadata": {
        "id": "YpTko6zYWGmL"
      },
      "outputs": [],
      "source": [
        "from tensorflow.keras.preprocessing import image\n",
        "import matplotlib.pyplot as plt\n",
        "import numpy as np\n",
        "import pandas as pd"
      ]
    },
    {
      "cell_type": "markdown",
      "metadata": {
        "id": "E-4v1LhrWGmL"
      },
      "source": [
        "#### Load the data"
      ]
    },
    {
      "cell_type": "code",
      "execution_count": 11,
      "metadata": {
        "id": "MMS2wzpeWGmM",
        "outputId": "10c05794-77bb-415f-e112-b0665993e917",
        "colab": {
          "base_uri": "https://localhost:8080/"
        }
      },
      "outputs": [
        {
          "output_type": "stream",
          "name": "stdout",
          "text": [
            "Downloading data from https://storage.googleapis.com/tensorflow/tf-keras-datasets/train-labels-idx1-ubyte.gz\n",
            "29515/29515 [==============================] - 0s 0us/step\n",
            "Downloading data from https://storage.googleapis.com/tensorflow/tf-keras-datasets/train-images-idx3-ubyte.gz\n",
            "26421880/26421880 [==============================] - 0s 0us/step\n",
            "Downloading data from https://storage.googleapis.com/tensorflow/tf-keras-datasets/t10k-labels-idx1-ubyte.gz\n",
            "5148/5148 [==============================] - 0s 0us/step\n",
            "Downloading data from https://storage.googleapis.com/tensorflow/tf-keras-datasets/t10k-images-idx3-ubyte.gz\n",
            "4422102/4422102 [==============================] - 0s 0us/step\n"
          ]
        }
      ],
      "source": [
        "# Load the Fashion-MNIST dataset\n",
        "\n",
        "fashion_mnist_data = tf.keras.datasets.fashion_mnist\n",
        "(train_images, train_labels), (test_images, test_labels) = fashion_mnist_data.load_data()"
      ]
    },
    {
      "cell_type": "code",
      "execution_count": 12,
      "metadata": {
        "id": "bddtTj5jWGmM",
        "outputId": "1a9a6ead-43ec-4da2-e609-4a97876e8366",
        "colab": {
          "base_uri": "https://localhost:8080/"
        }
      },
      "outputs": [
        {
          "output_type": "execute_result",
          "data": {
            "text/plain": [
              "(60000, 28, 28)"
            ]
          },
          "metadata": {},
          "execution_count": 12
        }
      ],
      "source": [
        "# Print the shape of the training data\n",
        "train_images.shape\n"
      ]
    },
    {
      "cell_type": "code",
      "execution_count": 13,
      "metadata": {
        "id": "ApJY4M3KWGmM"
      },
      "outputs": [],
      "source": [
        "# Define the labels\n",
        "\n",
        "labels = [\n",
        "    'T-shirt/top',\n",
        "    'Trouser',\n",
        "    'Pullover',\n",
        "    'Dress',\n",
        "    'Coat',\n",
        "    'Sandal',\n",
        "    'Shirt',\n",
        "    'Sneaker',\n",
        "    'Bag',\n",
        "    'Ankle boot'\n",
        "]"
      ]
    },
    {
      "cell_type": "code",
      "execution_count": 14,
      "metadata": {
        "id": "LCGhDqCxWGmM"
      },
      "outputs": [],
      "source": [
        "# Rescale the image values so that they lie in between 0 and 1.\n",
        "min_val = np.min(train_images)\n",
        "max_val = np.max(train_images)\n",
        "\n",
        "train_images = (train_images - min_val) / (max_val - min_val)\n",
        "test_images = (test_images - min_val) / (max_val - min_val)\n"
      ]
    },
    {
      "cell_type": "code",
      "execution_count": 15,
      "metadata": {
        "id": "qMRrnxY2WGmN",
        "colab": {
          "base_uri": "https://localhost:8080/",
          "height": 427
        },
        "outputId": "dd8087ab-0e5f-40a8-96ef-2db717c40ec5"
      },
      "outputs": [
        {
          "output_type": "display_data",
          "data": {
            "text/plain": [
              "<Figure size 400x400 with 9 Axes>"
            ],
            "image/png": "[encoded data removed]"
          },
          "metadata": {}
        },
        {
          "output_type": "execute_result",
          "data": {
            "text/plain": [
              "[['Ankle boot', 'T-shirt/top', 'T-shirt/top'],\n",
              " ['Trouser', 'Trouser', 'Coat'],\n",
              " ['Pullover', 'Sandal', 'Pullover']]"
            ]
          },
          "metadata": {},
          "execution_count": 15
        }
      ],
      "source": [
        "# Display one of the images\n",
        "fig, ax = plt.subplots(3, 3, sharex=True, sharey=True, figsize=(4,4))\n",
        "for i in range(3):\n",
        "    for j in range(3):\n",
        "        ax[i][j].imshow(train_images[i*3+j], cmap=plt.get_cmap(\"gray\"))\n",
        "plt.show()\n",
        "[[labels[i+j] for i in train_labels[j:3+j]] for j in range(3)]\n"
      ]
    },
    {
      "cell_type": "markdown",
      "metadata": {
        "id": "_DMgPtaeWGmN"
      },
      "source": [
        "#### Fit the model"
      ]
    },
    {
      "cell_type": "code",
      "execution_count": 16,
      "metadata": {
        "id": "z4gYsCrNWGmN",
        "colab": {
          "base_uri": "https://localhost:8080/"
        },
        "outputId": "f117426f-4808-4d43-bb74-3012f480ebbc"
      },
      "outputs": [
        {
          "output_type": "stream",
          "name": "stdout",
          "text": [
            "Epoch 1/5\n",
            "1875/1875 [==============================] - 22s 11ms/step - loss: 0.6636 - accuracy: 0.7671 - mse: 27.6649\n",
            "Epoch 2/5\n",
            "1875/1875 [==============================] - 16s 9ms/step - loss: 0.5156 - accuracy: 0.8201 - mse: 27.6736\n",
            "Epoch 3/5\n",
            "1875/1875 [==============================] - 16s 9ms/step - loss: 0.4940 - accuracy: 0.8301 - mse: 27.6747\n",
            "Epoch 4/5\n",
            "1875/1875 [==============================] - 17s 9ms/step - loss: 0.4840 - accuracy: 0.8342 - mse: 27.6754\n",
            "Epoch 5/5\n",
            "1875/1875 [==============================] - 16s 9ms/step - loss: 0.4775 - accuracy: 0.8370 - mse: 27.6755\n"
          ]
        }
      ],
      "source": [
        "# Fit the model\n",
        "history = model.fit(\n",
        "    train_images.reshape((-1, 28, 28, 1)),\n",
        "    train_labels,\n",
        "    epochs=5\n",
        ")\n"
      ]
    },
    {
      "cell_type": "markdown",
      "metadata": {
        "id": "ghDUGb3OWGmO"
      },
      "source": [
        "#### Plot training history"
      ]
    },
    {
      "cell_type": "code",
      "execution_count": 17,
      "metadata": {
        "id": "N60FHnMjWGmO"
      },
      "outputs": [],
      "source": [
        "# Load the history into a pandas Dataframe\n",
        "df = pd.DataFrame(history.history)\n"
      ]
    },
    {
      "cell_type": "code",
      "execution_count": 18,
      "metadata": {
        "id": "cEDzcjRjWGmO",
        "colab": {
          "base_uri": "https://localhost:8080/",
          "height": 463
        },
        "outputId": "742d0508-1c42-44fd-fbc3-a97e2e7e1442"
      },
      "outputs": [
        {
          "output_type": "execute_result",
          "data": {
            "text/plain": [
              "<matplotlib.legend.Legend at 0x7d98704a1c90>"
            ]
          },
          "metadata": {},
          "execution_count": 18
        },
        {
          "output_type": "display_data",
          "data": {
            "text/plain": [
              "<Figure size 1000x500 with 1 Axes>"
            ],
            "image/png": "[encoded data removed]"
          },
          "metadata": {}
        }
      ],
      "source": [
        "# Make a plot for the loss\n",
        "plt.figure(figsize=(10,5))\n",
        "\n",
        "plt.plot(df['loss'], color='b', label=\"Training loss\")\n",
        "plt.legend(loc='best', shadow=True)\n"
      ]
    },
    {
      "cell_type": "code",
      "execution_count": 19,
      "metadata": {
        "id": "ChkcCk8qWGmO",
        "colab": {
          "base_uri": "https://localhost:8080/",
          "height": 466
        },
        "outputId": "6e5edbfe-c934-4041-c924-045a9201439e"
      },
      "outputs": [
        {
          "output_type": "execute_result",
          "data": {
            "text/plain": [
              "<matplotlib.legend.Legend at 0x7d987324c3a0>"
            ]
          },
          "metadata": {},
          "execution_count": 19
        },
        {
          "output_type": "display_data",
          "data": {
            "text/plain": [
              "<Figure size 1000x500 with 1 Axes>"
            ],
            "image/png": "[encoded data removed]"
          },
          "metadata": {}
        }
      ],
      "source": [
        "# Make a plot for the accuracy\n",
        "plt.figure(figsize=(10,5))\n",
        "\n",
        "plt.plot(history.history['accuracy'], color='g', label='accuracy')\n",
        "plt.legend(loc='best', shadow=True)\n"
      ]
    },
    {
      "cell_type": "code",
      "execution_count": 20,
      "metadata": {
        "id": "ng9Zr7MfWGmO",
        "colab": {
          "base_uri": "https://localhost:8080/",
          "height": 468
        },
        "outputId": "d894eb89-bf53-4d0e-db8a-2b3f366d05b3"
      },
      "outputs": [
        {
          "output_type": "execute_result",
          "data": {
            "text/plain": [
              "<matplotlib.legend.Legend at 0x7d98732ce6e0>"
            ]
          },
          "metadata": {},
          "execution_count": 20
        },
        {
          "output_type": "display_data",
          "data": {
            "text/plain": [
              "<Figure size 1000x500 with 1 Axes>"
            ],
            "image/png": "[encoded data removed]"
          },
          "metadata": {}
        }
      ],
      "source": [
        "# Make a plot for the additional metric\n",
        "plt.figure(figsize=(10,5))\n",
        "\n",
        "plt.plot(history.history['mse'], color='r', label='mse')\n",
        "plt.legend(loc='best', shadow=True)\n"
      ]
    },
    {
      "cell_type": "markdown",
      "metadata": {
        "id": "YdWGZ7kbWGmP"
      },
      "source": [
        "***\n",
        "<a id=\"coding_tutorial_5\"></a>\n",
        "## The evaluate and predict methods"
      ]
    },
    {
      "cell_type": "code",
      "execution_count": 21,
      "metadata": {
        "id": "MDKO0YS8WGmP"
      },
      "outputs": [],
      "source": [
        "import matplotlib.pyplot as plt\n",
        "import numpy as np"
      ]
    },
    {
      "cell_type": "markdown",
      "metadata": {
        "id": "2UU_Sd8rWGmP"
      },
      "source": [
        "#### Evaluate the model on the test set"
      ]
    },
    {
      "cell_type": "code",
      "execution_count": 23,
      "metadata": {
        "id": "SE_0_Ie4WGmP",
        "colab": {
          "base_uri": "https://localhost:8080/"
        },
        "outputId": "533c1883-1698-455e-d12e-a992bc7543de"
      },
      "outputs": [
        {
          "output_type": "stream",
          "name": "stdout",
          "text": [
            "79/79 [==============================] - 2s 17ms/step - loss: 0.5003 - accuracy: 0.8210 - mse: 27.6757\n",
            "test loss: 0.5002804398536682,\n",
            " test acc:  0.8209999799728394,\n",
            " test mse:  27.675674438476562\n"
          ]
        }
      ],
      "source": [
        "# Evaluate the model\n",
        "results = model.evaluate(test_images.reshape((-1,28,28,1)), test_labels, batch_size=128)\n",
        "print(f\"test loss: {results[0]},\\n test acc:  {results[1]},\\n test mse:  {results[2]}\")\n"
      ]
    },
    {
      "cell_type": "markdown",
      "metadata": {
        "id": "dGtgZPB6WGmQ"
      },
      "source": [
        "#### Make predictions from the model"
      ]
    },
    {
      "cell_type": "code",
      "execution_count": 25,
      "metadata": {
        "id": "OXwcHmZ_WGmQ",
        "colab": {
          "base_uri": "https://localhost:8080/",
          "height": 448
        },
        "outputId": "93ca8084-39ce-4cab-dbea-ef7d268eb4c3"
      },
      "outputs": [
        {
          "output_type": "display_data",
          "data": {
            "text/plain": [
              "<Figure size 640x480 with 1 Axes>"
            ],
            "image/png": "[encoded data removed]"
          },
          "metadata": {}
        },
        {
          "output_type": "stream",
          "name": "stdout",
          "text": [
            "Label: Shirt\n"
          ]
        }
      ],
      "source": [
        "# Choose a random test image\n",
        "\n",
        "random_inx = np.random.choice(test_images.shape[0])\n",
        "\n",
        "test_image = test_images[random_inx]\n",
        "plt.imshow(test_image, cmap=plt.get_cmap(\"gray\"))\n",
        "plt.show()\n",
        "print(f\"Label: {labels[test_labels[random_inx]]}\")"
      ]
    },
    {
      "cell_type": "code",
      "execution_count": 26,
      "metadata": {
        "id": "qMWXGqK5WGmQ",
        "colab": {
          "base_uri": "https://localhost:8080/",
          "height": 55
        },
        "outputId": "3c7803f2-0a91-4ced-bca8-3067627dfde3"
      },
      "outputs": [
        {
          "output_type": "stream",
          "name": "stdout",
          "text": [
            "1/1 [==============================] - 0s 357ms/step\n"
          ]
        },
        {
          "output_type": "execute_result",
          "data": {
            "text/plain": [
              "'Shirt'"
            ],
            "application/vnd.google.colaboratory.intrinsic+json": {
              "type": "string"
            }
          },
          "metadata": {},
          "execution_count": 26
        }
      ],
      "source": [
        "# Get the model predictions\n",
        "prediction = model.predict(test_image.reshape(-1, 28, 28, 1))\n",
        "idx = np.argmax(prediction[0])\n",
        "labels[idx]\n"
      ]
    },
    {
      "cell_type": "code",
      "source": [],
      "metadata": {
        "id": "jm0acbONZFb9"
      },
      "execution_count": null,
      "outputs": []
    }
  ],
  "metadata": {
    "kernelspec": {
      "display_name": "Python 3",
      "language": "python",
      "name": "python3"
    },
    "language_info": {
      "codemirror_mode": {
        "name": "ipython",
        "version": 3
      },
      "file_extension": ".py",
      "mimetype": "text/x-python",
      "name": "python",
      "nbconvert_exporter": "python",
      "pygments_lexer": "ipython3",
      "version": "3.7.1"
    },
    "colab": {
      "provenance": []
    }
  },
  "nbformat": 4,
  "nbformat_minor": 0
}